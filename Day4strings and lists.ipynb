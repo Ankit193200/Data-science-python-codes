{
 "cells": [
  {
   "cell_type": "code",
   "execution_count": 1,
   "id": "188c9277-7e4d-4681-af41-d8ae1afbfabc",
   "metadata": {},
   "outputs": [],
   "source": [
    "#day four"
   ]
  },
  {
   "cell_type": "code",
   "execution_count": 5,
   "id": "b6fa9283-30ce-48c9-946a-77fb8cfe80cf",
   "metadata": {},
   "outputs": [],
   "source": [
    "string =\"I am a boy\""
   ]
  },
  {
   "cell_type": "code",
   "execution_count": 6,
   "id": "749171a0-a424-458d-a972-4ea73a6b33ab",
   "metadata": {},
   "outputs": [
    {
     "data": {
      "text/plain": [
       "'i AM A BOY'"
      ]
     },
     "execution_count": 6,
     "metadata": {},
     "output_type": "execute_result"
    }
   ],
   "source": [
    "string.swapcase()"
   ]
  },
  {
   "cell_type": "code",
   "execution_count": 7,
   "id": "4ab45b70-e6db-4acf-8f35-3dacdf9b0535",
   "metadata": {},
   "outputs": [
    {
     "data": {
      "text/plain": [
       "'I Am A Boy'"
      ]
     },
     "execution_count": 7,
     "metadata": {},
     "output_type": "execute_result"
    }
   ],
   "source": [
    "string.title()"
   ]
  },
  {
   "cell_type": "code",
   "execution_count": 8,
   "id": "48f28b71-4fbd-45c3-aa62-7f77a3f114d7",
   "metadata": {},
   "outputs": [
    {
     "data": {
      "text/plain": [
       "'I am a boy'"
      ]
     },
     "execution_count": 8,
     "metadata": {},
     "output_type": "execute_result"
    }
   ],
   "source": [
    "string.capitalize()"
   ]
  },
  {
   "cell_type": "code",
   "execution_count": 9,
   "id": "84f24614-ebfe-480e-bda3-c931da62e897",
   "metadata": {},
   "outputs": [],
   "source": [
    "# reversing a string "
   ]
  },
  {
   "cell_type": "code",
   "execution_count": 10,
   "id": "8413ff5f-47e7-4117-ad23-e6df77057199",
   "metadata": {},
   "outputs": [
    {
     "data": {
      "text/plain": [
       "'yob a ma I'"
      ]
     },
     "execution_count": 10,
     "metadata": {},
     "output_type": "execute_result"
    }
   ],
   "source": [
    "string[::-1]"
   ]
  },
  {
   "cell_type": "code",
   "execution_count": 11,
   "id": "0dec82c0-556b-4e3b-a1c9-84b2b0178b97",
   "metadata": {},
   "outputs": [],
   "source": [
    "# or inbuilt function"
   ]
  },
  {
   "cell_type": "code",
   "execution_count": 12,
   "id": "e55476bd-d8da-4c66-8c51-d5acb8ea74ee",
   "metadata": {},
   "outputs": [
    {
     "data": {
      "text/plain": [
       "<reversed at 0x7f3c600fc340>"
      ]
     },
     "execution_count": 12,
     "metadata": {},
     "output_type": "execute_result"
    }
   ],
   "source": [
    "reversed(string)"
   ]
  },
  {
   "cell_type": "code",
   "execution_count": 13,
   "id": "2020c7bf-d755-48ee-9473-d12123202d50",
   "metadata": {},
   "outputs": [
    {
     "data": {
      "text/plain": [
       "'a b c d'"
      ]
     },
     "execution_count": 13,
     "metadata": {},
     "output_type": "execute_result"
    }
   ],
   "source": [
    "\" \".join(\"abcd\")"
   ]
  },
  {
   "cell_type": "code",
   "execution_count": 18,
   "id": "39c64cf0-9475-4067-8acc-efe0ae57c229",
   "metadata": {},
   "outputs": [
    {
     "data": {
      "text/plain": [
       "'d  c  b  a'"
      ]
     },
     "execution_count": 18,
     "metadata": {},
     "output_type": "execute_result"
    }
   ],
   "source": [
    "'  '.join(reversed('abcd'))\n"
   ]
  },
  {
   "cell_type": "code",
   "execution_count": 20,
   "id": "b08299bf-8d2a-4300-80e5-0da15a3409f0",
   "metadata": {},
   "outputs": [
    {
     "data": {
      "text/plain": [
       "'d ankit c ankit b ankit a'"
      ]
     },
     "execution_count": 20,
     "metadata": {},
     "output_type": "execute_result"
    }
   ],
   "source": [
    "' ankit '.join(reversed('abcd'))"
   ]
  },
  {
   "cell_type": "code",
   "execution_count": 23,
   "id": "caddd680-2d0b-4c18-b8d3-18a25b2276f8",
   "metadata": {},
   "outputs": [
    {
     "data": {
      "text/plain": [
       "['d', 'c', 'b', 'a']"
      ]
     },
     "execution_count": 23,
     "metadata": {},
     "output_type": "execute_result"
    }
   ],
   "source": [
    "#typecasting\n",
    "list(reversed('abcd'))"
   ]
  },
  {
   "cell_type": "code",
   "execution_count": 30,
   "id": "a24cf0e1-b89c-42ff-8623-27844c9f10cf",
   "metadata": {},
   "outputs": [],
   "source": [
    "string =\" I am a boy \""
   ]
  },
  {
   "cell_type": "code",
   "execution_count": 32,
   "id": "8617918d-c361-4602-8d16-3c10c25027af",
   "metadata": {},
   "outputs": [
    {
     "data": {
      "text/plain": [
       "'I am a boy'"
      ]
     },
     "execution_count": 32,
     "metadata": {},
     "output_type": "execute_result"
    }
   ],
   "source": [
    "\n",
    "string.strip(\" \")"
   ]
  },
  {
   "cell_type": "code",
   "execution_count": 33,
   "id": "57df78fc-626f-4703-b2b1-3d22cd38b30e",
   "metadata": {},
   "outputs": [
    {
     "data": {
      "text/plain": [
       "'I am a boy '"
      ]
     },
     "execution_count": 33,
     "metadata": {},
     "output_type": "execute_result"
    }
   ],
   "source": [
    "string.lstrip(\" \")"
   ]
  },
  {
   "cell_type": "code",
   "execution_count": 34,
   "id": "a64dd818-aad0-45c9-8393-81fd7a41dedb",
   "metadata": {},
   "outputs": [
    {
     "data": {
      "text/plain": [
       "' I am a boy'"
      ]
     },
     "execution_count": 34,
     "metadata": {},
     "output_type": "execute_result"
    }
   ],
   "source": [
    "string.rstrip(\" \")"
   ]
  },
  {
   "cell_type": "code",
   "execution_count": 38,
   "id": "168e5649-5890-4353-b1f4-0526a69033d0",
   "metadata": {},
   "outputs": [
    {
     "data": {
      "text/plain": [
       "'Welcome to PW course'"
      ]
     },
     "execution_count": 38,
     "metadata": {},
     "output_type": "execute_result"
    }
   ],
   "source": [
    "string1=\"Welcome to my course\"\n",
    "string1.replace(\"my\",\"PW\")"
   ]
  },
  {
   "cell_type": "code",
   "execution_count": 41,
   "id": "b9b87a12-4067-49a8-84f1-236187235a03",
   "metadata": {},
   "outputs": [],
   "source": [
    "string=\"Solanki\""
   ]
  },
  {
   "cell_type": "code",
   "execution_count": 42,
   "id": "97527bb9-d9e2-4db6-b6b4-f56085244837",
   "metadata": {},
   "outputs": [],
   "source": [
    "string=\"Ankit\""
   ]
  },
  {
   "cell_type": "code",
   "execution_count": 44,
   "id": "8cc1ddbe-5b23-4c9f-87cf-f07caa78f6ef",
   "metadata": {},
   "outputs": [
    {
     "name": "stdout",
     "output_type": "stream",
     "text": [
      "Ankit\n",
      "139897289468592\n"
     ]
    }
   ],
   "source": [
    "print(string)\n",
    "print(id(string))"
   ]
  },
  {
   "cell_type": "code",
   "execution_count": 45,
   "id": "6211784b-69ea-4fd9-ae1e-d9bdee66e7f1",
   "metadata": {},
   "outputs": [
    {
     "data": {
      "text/plain": [
       "'Ankit   Solanki'"
      ]
     },
     "execution_count": 45,
     "metadata": {},
     "output_type": "execute_result"
    }
   ],
   "source": [
    "'Ankit \\tSolanki'.expandtabs()"
   ]
  },
  {
   "cell_type": "code",
   "execution_count": 46,
   "id": "66e4f9fb-bd14-4bfe-8d1e-22d27e4106e5",
   "metadata": {},
   "outputs": [],
   "source": [
    "str1=\"Welcome to pw skills.Welcome to det cience masters\""
   ]
  },
  {
   "cell_type": "code",
   "execution_count": 50,
   "id": "3b7b3e48-dad1-46b5-80a4-f801cca8318a",
   "metadata": {},
   "outputs": [
    {
     "data": {
      "text/plain": [
       "'Welcome to pw skills.Welcome to data science masters'"
      ]
     },
     "execution_count": 50,
     "metadata": {},
     "output_type": "execute_result"
    }
   ],
   "source": [
    "str1.replace(\"det\",\"data\").replace(\"cience\",\"science\")"
   ]
  },
  {
   "cell_type": "code",
   "execution_count": 51,
   "id": "28638ed4-04eb-4741-9d47-2eee2faacc1e",
   "metadata": {},
   "outputs": [
    {
     "data": {
      "text/plain": [
       "False"
      ]
     },
     "execution_count": 51,
     "metadata": {},
     "output_type": "execute_result"
    }
   ],
   "source": [
    "str1.isupper()"
   ]
  },
  {
   "cell_type": "code",
   "execution_count": 52,
   "id": "dd78724a-0273-4dfd-81f2-97caebcc68ec",
   "metadata": {},
   "outputs": [],
   "source": [
    "str1=\"ANKIT\""
   ]
  },
  {
   "cell_type": "code",
   "execution_count": 53,
   "id": "5739fa66-6868-46e4-ac3d-c9340e3513b3",
   "metadata": {},
   "outputs": [
    {
     "data": {
      "text/plain": [
       "True"
      ]
     },
     "execution_count": 53,
     "metadata": {},
     "output_type": "execute_result"
    }
   ],
   "source": [
    "str1.isupper()"
   ]
  },
  {
   "cell_type": "code",
   "execution_count": 65,
   "id": "95544f16-9640-44e6-874f-56fcfa7abd8b",
   "metadata": {},
   "outputs": [],
   "source": [
    "stri=\"ankit\""
   ]
  },
  {
   "cell_type": "code",
   "execution_count": 61,
   "id": "c30767b1-2628-4002-9f4f-13922050f939",
   "metadata": {},
   "outputs": [
    {
     "data": {
      "text/plain": [
       "True"
      ]
     },
     "execution_count": 61,
     "metadata": {},
     "output_type": "execute_result"
    }
   ],
   "source": [
    "stri.islower()"
   ]
  },
  {
   "cell_type": "code",
   "execution_count": 62,
   "id": "45cbac50-5e3b-452b-946d-09776d6e7ff1",
   "metadata": {},
   "outputs": [
    {
     "data": {
      "text/plain": [
       "False"
      ]
     },
     "execution_count": 62,
     "metadata": {},
     "output_type": "execute_result"
    }
   ],
   "source": [
    "stri.isspace()"
   ]
  },
  {
   "cell_type": "code",
   "execution_count": 66,
   "id": "d34df383-1a49-4982-afa0-b4d307d1e40e",
   "metadata": {},
   "outputs": [
    {
     "data": {
      "text/plain": [
       "True"
      ]
     },
     "execution_count": 66,
     "metadata": {},
     "output_type": "execute_result"
    }
   ],
   "source": [
    "stri.endswith(\"t\")"
   ]
  },
  {
   "cell_type": "code",
   "execution_count": 68,
   "id": "0158aa4b-5263-48e4-9a7a-959122d554a1",
   "metadata": {},
   "outputs": [
    {
     "data": {
      "text/plain": [
       "True"
      ]
     },
     "execution_count": 68,
     "metadata": {},
     "output_type": "execute_result"
    }
   ],
   "source": [
    "stri.startswith(\"a\")"
   ]
  },
  {
   "cell_type": "code",
   "execution_count": 71,
   "id": "af74d909-5328-4b81-aebb-919b9745b6fa",
   "metadata": {},
   "outputs": [
    {
     "data": {
      "text/plain": [
       "True"
      ]
     },
     "execution_count": 71,
     "metadata": {},
     "output_type": "execute_result"
    }
   ],
   "source": [
    "## check if all the char in string are alphanumeric\n",
    "a=\"srgr8542\"\n",
    "a.isalnum()"
   ]
  },
  {
   "cell_type": "code",
   "execution_count": 73,
   "id": "4a56a427-6483-45d9-a006-30d26cd10ae8",
   "metadata": {},
   "outputs": [
    {
     "name": "stdout",
     "output_type": "stream",
     "text": [
      "0 = a\n",
      "1 = n\n",
      "2 = k\n",
      "3 = i\n",
      "4 = t\n"
     ]
    }
   ],
   "source": [
    "for i in range(len(stri)):\n",
    "    print(i,\"=\",stri[i])"
   ]
  },
  {
   "cell_type": "code",
   "execution_count": 80,
   "id": "9fdd6d92-89a1-4e43-aff1-6c717c873508",
   "metadata": {},
   "outputs": [
    {
     "name": "stdout",
     "output_type": "stream",
     "text": [
      "4 = t\n",
      "3 = i\n",
      "2 = k\n",
      "1 = n\n",
      "0 = a\n"
     ]
    }
   ],
   "source": [
    "for i in range(len(stri)-1,-1,-1):\n",
    "    print(i,\"=\",stri[i])"
   ]
  },
  {
   "cell_type": "code",
   "execution_count": 83,
   "id": "0b546f37-9e22-42ca-aefb-85cd0ef0c63f",
   "metadata": {},
   "outputs": [
    {
     "name": "stdout",
     "output_type": "stream",
     "text": [
      "tikna"
     ]
    }
   ],
   "source": [
    "#best solution\n",
    "for i in range(len(stri)):\n",
    "    print(stri[len(stri)-(i+1)],end=\"\")"
   ]
  },
  {
   "cell_type": "code",
   "execution_count": 89,
   "id": "2376b62e-1099-44f1-9ba6-2d5a11a07fb1",
   "metadata": {},
   "outputs": [],
   "source": [
    "name=\"pwsills\"\n",
    "vowels=\"AaEeIiOoUu\""
   ]
  },
  {
   "cell_type": "code",
   "execution_count": 90,
   "id": "f366444b-4d5b-4c7e-8887-e2ba07f677fe",
   "metadata": {},
   "outputs": [
    {
     "name": "stdout",
     "output_type": "stream",
     "text": [
      "p is not a vowel\n",
      "w is not a vowel\n",
      "s is not a vowel\n",
      "i is a vowel\n",
      "l is not a vowel\n",
      "l is not a vowel\n",
      "s is not a vowel\n"
     ]
    }
   ],
   "source": [
    "for ch in name:\n",
    "    if ch in vowels:\n",
    "        print(\"{} is a vowel\".format(ch))\n",
    "    else:\n",
    "        print(\"{} is not a vowel\".format(ch))"
   ]
  },
  {
   "cell_type": "markdown",
   "id": "1553900d-cc91-486c-87d0-aa9172169e49",
   "metadata": {},
   "source": [
    "# Lists"
   ]
  },
  {
   "cell_type": "code",
   "execution_count": 91,
   "id": "987e720b-018f-4825-a725-7dbefa47d403",
   "metadata": {},
   "outputs": [
    {
     "data": {
      "text/plain": [
       "list"
      ]
     },
     "execution_count": 91,
     "metadata": {},
     "output_type": "execute_result"
    }
   ],
   "source": [
    "type([])"
   ]
  },
  {
   "cell_type": "code",
   "execution_count": 92,
   "id": "7f14cce5-5cec-4903-8c44-2f4655fb42a9",
   "metadata": {},
   "outputs": [],
   "source": [
    "lst=[1,2,3,4,56,6]"
   ]
  },
  {
   "cell_type": "code",
   "execution_count": 99,
   "id": "a05d775e-6d55-4671-afa3-d20127d00a83",
   "metadata": {},
   "outputs": [
    {
     "data": {
      "text/plain": [
       "[1, 2, 3, 4, 56, 6]"
      ]
     },
     "execution_count": 99,
     "metadata": {},
     "output_type": "execute_result"
    }
   ],
   "source": [
    "lst"
   ]
  },
  {
   "cell_type": "code",
   "execution_count": 100,
   "id": "f54250aa-db45-4d7c-a465-6a8b1b5cfd09",
   "metadata": {},
   "outputs": [
    {
     "data": {
      "text/plain": [
       "'ankit'"
      ]
     },
     "execution_count": 100,
     "metadata": {},
     "output_type": "execute_result"
    }
   ],
   "source": [
    "stri"
   ]
  },
  {
   "cell_type": "code",
   "execution_count": 103,
   "id": "4211439a-7e82-4de0-ac76-5e6e00468f0b",
   "metadata": {},
   "outputs": [
    {
     "data": {
      "text/plain": [
       "['a', 'n', 'k', 'i', 't']"
      ]
     },
     "execution_count": 103,
     "metadata": {},
     "output_type": "execute_result"
    }
   ],
   "source": [
    "list(stri)"
   ]
  },
  {
   "cell_type": "code",
   "execution_count": 109,
   "id": "acdb91b9-dbcc-4f4d-9e7b-12dec0695d38",
   "metadata": {},
   "outputs": [],
   "source": [
    "str1=\"Welcome to pw skills.Welcome to det cience masters\""
   ]
  },
  {
   "cell_type": "code",
   "execution_count": 110,
   "id": "994145ee-2f48-4a22-89de-f85b97db9b20",
   "metadata": {},
   "outputs": [
    {
     "data": {
      "text/plain": [
       "['W',\n",
       " 'e',\n",
       " 'l',\n",
       " 'c',\n",
       " 'o',\n",
       " 'm',\n",
       " 'e',\n",
       " ' ',\n",
       " 't',\n",
       " 'o',\n",
       " ' ',\n",
       " 'p',\n",
       " 'w',\n",
       " ' ',\n",
       " 's',\n",
       " 'k',\n",
       " 'i',\n",
       " 'l',\n",
       " 'l',\n",
       " 's',\n",
       " '.',\n",
       " 'W',\n",
       " 'e',\n",
       " 'l',\n",
       " 'c',\n",
       " 'o',\n",
       " 'm',\n",
       " 'e',\n",
       " ' ',\n",
       " 't',\n",
       " 'o',\n",
       " ' ',\n",
       " 'd',\n",
       " 'e',\n",
       " 't',\n",
       " ' ',\n",
       " 'c',\n",
       " 'i',\n",
       " 'e',\n",
       " 'n',\n",
       " 'c',\n",
       " 'e',\n",
       " ' ',\n",
       " 'm',\n",
       " 'a',\n",
       " 's',\n",
       " 't',\n",
       " 'e',\n",
       " 'r',\n",
       " 's']"
      ]
     },
     "execution_count": 110,
     "metadata": {},
     "output_type": "execute_result"
    }
   ],
   "source": [
    "list(str1)"
   ]
  },
  {
   "cell_type": "code",
   "execution_count": 16,
   "id": "eb2da8dd-40c7-4c4c-835c-256f1a22ab81",
   "metadata": {},
   "outputs": [
    {
     "data": {
      "text/plain": [
       "['Welcome', 'to', 'pw', 'skills.Welcome', 'to', 'det', 'science', 'masters']"
      ]
     },
     "execution_count": 16,
     "metadata": {},
     "output_type": "execute_result"
    }
   ],
   "source": [
    "list(str1.split(\" \"))\n"
   ]
  },
  {
   "cell_type": "code",
   "execution_count": 17,
   "id": "2356b2fa-b551-4900-8ecd-7e9ac9a88e94",
   "metadata": {},
   "outputs": [],
   "source": [
    "lst=(str1.split(\" \"))"
   ]
  },
  {
   "cell_type": "code",
   "execution_count": 18,
   "id": "40e13c35-9f02-4bf5-a662-418dee733067",
   "metadata": {},
   "outputs": [
    {
     "data": {
      "text/plain": [
       "['Welcome', 'to', 'pw', 'skills.Welcome', 'to', 'det', 'science', 'masters']"
      ]
     },
     "execution_count": 18,
     "metadata": {},
     "output_type": "execute_result"
    }
   ],
   "source": [
    "lst"
   ]
  },
  {
   "cell_type": "code",
   "execution_count": 19,
   "id": "9235702e-a31c-45b3-a8a9-bb8ff7eed361",
   "metadata": {},
   "outputs": [
    {
     "data": {
      "text/plain": [
       "'to'"
      ]
     },
     "execution_count": 19,
     "metadata": {},
     "output_type": "execute_result"
    }
   ],
   "source": [
    "lst[1]\n"
   ]
  },
  {
   "cell_type": "code",
   "execution_count": 20,
   "id": "576cb3d1-9efc-4046-9c86-3d001990d784",
   "metadata": {},
   "outputs": [
    {
     "data": {
      "text/plain": [
       "['to', 'pw', 'skills.Welcome', 'to', 'det', 'science', 'masters']"
      ]
     },
     "execution_count": 20,
     "metadata": {},
     "output_type": "execute_result"
    }
   ],
   "source": [
    "lst[1:]"
   ]
  },
  {
   "cell_type": "code",
   "execution_count": 21,
   "id": "fdf39ffe-dbee-4694-b577-cb7185d0a3ec",
   "metadata": {},
   "outputs": [],
   "source": [
    "lst[5]=\"Data\"\n",
    "lst[6]=\"science\""
   ]
  },
  {
   "cell_type": "code",
   "execution_count": 22,
   "id": "95ff2b88-34e8-4858-a5d0-939500d77050",
   "metadata": {},
   "outputs": [
    {
     "data": {
      "text/plain": [
       "['Welcome', 'to', 'pw', 'skills.Welcome', 'to', 'Data', 'science', 'masters']"
      ]
     },
     "execution_count": 22,
     "metadata": {},
     "output_type": "execute_result"
    }
   ],
   "source": [
    "lst"
   ]
  },
  {
   "cell_type": "code",
   "execution_count": 23,
   "id": "dff025e0-1fc0-41cd-87bc-c3338686b7b9",
   "metadata": {},
   "outputs": [],
   "source": [
    "# concatenation operation"
   ]
  },
  {
   "cell_type": "code",
   "execution_count": 24,
   "id": "1de3380e-9815-401b-a694-20689459dbf7",
   "metadata": {},
   "outputs": [
    {
     "data": {
      "text/plain": [
       "['Welcome',\n",
       " 'to',\n",
       " 'pw',\n",
       " 'skills.Welcome',\n",
       " 'to',\n",
       " 'Data',\n",
       " 'science',\n",
       " 'masters',\n",
       " 'new element',\n",
       " 3]"
      ]
     },
     "execution_count": 24,
     "metadata": {},
     "output_type": "execute_result"
    }
   ],
   "source": [
    "lst + ['new element',3]"
   ]
  },
  {
   "cell_type": "code",
   "execution_count": 25,
   "id": "f0635567-eedb-45a0-b48e-b20515402ee1",
   "metadata": {},
   "outputs": [],
   "source": [
    "# multi nested lists\n",
    "list2=lst + [[\"new element\",3]]"
   ]
  },
  {
   "cell_type": "code",
   "execution_count": 26,
   "id": "1c671543-120b-4fcf-9e56-1dbf8dc763a7",
   "metadata": {},
   "outputs": [
    {
     "data": {
      "text/plain": [
       "['Welcome',\n",
       " 'to',\n",
       " 'pw',\n",
       " 'skills.Welcome',\n",
       " 'to',\n",
       " 'Data',\n",
       " 'science',\n",
       " 'masters',\n",
       " ['new element', 3]]"
      ]
     },
     "execution_count": 26,
     "metadata": {},
     "output_type": "execute_result"
    }
   ],
   "source": [
    "list2"
   ]
  },
  {
   "cell_type": "code",
   "execution_count": 27,
   "id": "d4a7a1a0-53e3-48c5-aa00-709037ca1e46",
   "metadata": {},
   "outputs": [
    {
     "data": {
      "text/plain": [
       "'new element'"
      ]
     },
     "execution_count": 27,
     "metadata": {},
     "output_type": "execute_result"
    }
   ],
   "source": [
    "list2[-1][0]"
   ]
  },
  {
   "cell_type": "code",
   "execution_count": 28,
   "id": "3ab89133-6509-4f7a-af81-3192681ff70f",
   "metadata": {},
   "outputs": [],
   "source": [
    "#str1=\"Welcome to pw skills.Welcome to det science masters\""
   ]
  },
  {
   "cell_type": "code",
   "execution_count": 31,
   "id": "b137c29a-5929-4e94-9a81-a9433ea6db6d",
   "metadata": {},
   "outputs": [
    {
     "name": "stdout",
     "output_type": "stream",
     "text": [
      "Welcome\n"
     ]
    }
   ],
   "source": [
    "\n",
    "    if \"science\" in list2:\n",
    "        print(element)\n",
    "        "
   ]
  },
  {
   "cell_type": "code",
   "execution_count": 35,
   "id": "804d77f4-2fe0-462c-9e22-2774f4a1acb2",
   "metadata": {},
   "outputs": [
    {
     "name": "stdout",
     "output_type": "stream",
     "text": [
      "science\n"
     ]
    }
   ],
   "source": [
    "for element in list2:\n",
    "    if element==\"science\":\n",
    "        print(element)\n",
    "        break"
   ]
  },
  {
   "cell_type": "code",
   "execution_count": 36,
   "id": "a2817a03-e39b-4678-bdb0-4c19cb46a606",
   "metadata": {},
   "outputs": [],
   "source": [
    "#check elements in list"
   ]
  },
  {
   "cell_type": "code",
   "execution_count": 41,
   "id": "5cfd01b7-40a3-4f3b-bb27-0bcfcfe4fb2b",
   "metadata": {},
   "outputs": [
    {
     "ename": "IndentationError",
     "evalue": "unexpected indent (154544479.py, line 3)",
     "output_type": "error",
     "traceback": [
      "\u001b[0;36m  Cell \u001b[0;32mIn[41], line 3\u001b[0;36m\u001b[0m\n\u001b[0;31m    if 32 in lst:\u001b[0m\n\u001b[0m    ^\u001b[0m\n\u001b[0;31mIndentationError\u001b[0m\u001b[0;31m:\u001b[0m unexpected indent\n"
     ]
    }
   ],
   "source": [
    "lst=[32,24,42,45,5,67,7,78]\n",
    "2 in lst\n",
    "        if 32 in lst:\n",
    "            print(\"Found\")\n",
    "        else:\n",
    "            print(\"failed\")"
   ]
  },
  {
   "cell_type": "code",
   "execution_count": 42,
   "id": "2cb7bfac-fd63-4949-971f-39aa6bf42bd5",
   "metadata": {},
   "outputs": [],
   "source": [
    "lst1=[\"zebra\",\"lion\",\"monkey\",\"donkey\"]\n",
    "lst2=[1,2,3,5,8,97,5]"
   ]
  },
  {
   "cell_type": "code",
   "execution_count": 43,
   "id": "d1630d13-beb2-4048-b00e-871f16d3ff2e",
   "metadata": {},
   "outputs": [
    {
     "name": "stdout",
     "output_type": "stream",
     "text": [
      "zebra\n"
     ]
    }
   ],
   "source": [
    "print(max(lst1))"
   ]
  },
  {
   "cell_type": "code",
   "execution_count": 44,
   "id": "d0405891-e69f-4cce-babc-1ba227ad6aa0",
   "metadata": {},
   "outputs": [
    {
     "data": {
      "text/plain": [
       "97"
      ]
     },
     "execution_count": 44,
     "metadata": {},
     "output_type": "execute_result"
    }
   ],
   "source": [
    "max(lst2)"
   ]
  },
  {
   "cell_type": "code",
   "execution_count": 45,
   "id": "d89a7ffc-6954-4ab1-92ee-acce7dea7b30",
   "metadata": {},
   "outputs": [
    {
     "data": {
      "text/plain": [
       "'donkey'"
      ]
     },
     "execution_count": 45,
     "metadata": {},
     "output_type": "execute_result"
    }
   ],
   "source": [
    "min(lst1)"
   ]
  },
  {
   "cell_type": "code",
   "execution_count": 46,
   "id": "4cf186ad-983b-46ad-88e2-a2e1b393c5da",
   "metadata": {},
   "outputs": [
    {
     "data": {
      "text/plain": [
       "1"
      ]
     },
     "execution_count": 46,
     "metadata": {},
     "output_type": "execute_result"
    }
   ],
   "source": [
    "min(lst2)"
   ]
  },
  {
   "cell_type": "code",
   "execution_count": 47,
   "id": "35604416-890d-4676-be7f-268283f82cda",
   "metadata": {},
   "outputs": [],
   "source": [
    "## Apend"
   ]
  },
  {
   "cell_type": "code",
   "execution_count": 48,
   "id": "8e7d77e2-fd6b-44a8-bbe7-0106e52dfb28",
   "metadata": {},
   "outputs": [],
   "source": [
    "lst=[2,234,24,45,35,3535,435,45,32]"
   ]
  },
  {
   "cell_type": "code",
   "execution_count": 49,
   "id": "b081691c-ab43-4856-91eb-c97691316ab9",
   "metadata": {},
   "outputs": [],
   "source": [
    "lst.append(\"Ankit\")"
   ]
  },
  {
   "cell_type": "code",
   "execution_count": 50,
   "id": "a0f9e13b-f96c-4250-aec3-427bc39f70d8",
   "metadata": {},
   "outputs": [
    {
     "data": {
      "text/plain": [
       "[2, 234, 24, 45, 35, 3535, 435, 45, 32, 'Ankit']"
      ]
     },
     "execution_count": 50,
     "metadata": {},
     "output_type": "execute_result"
    }
   ],
   "source": [
    "lst"
   ]
  },
  {
   "cell_type": "code",
   "execution_count": 54,
   "id": "86ca56f2-fd62-4281-b5aa-d5a9fa5e5d95",
   "metadata": {},
   "outputs": [],
   "source": [
    "lst.append(['Ankit','solanki'])"
   ]
  },
  {
   "cell_type": "code",
   "execution_count": 55,
   "id": "2c160020-4e75-47d3-947e-5b3eca340d99",
   "metadata": {},
   "outputs": [
    {
     "data": {
      "text/plain": [
       "[2, 234, 24, 45, 35, 3535, 435, 45, 32, 'Ankit', ['Ankit', 'solanki']]"
      ]
     },
     "execution_count": 55,
     "metadata": {},
     "output_type": "execute_result"
    }
   ],
   "source": [
    "lst"
   ]
  },
  {
   "cell_type": "code",
   "execution_count": 65,
   "id": "36514b19-c2bd-4eb3-9daf-3b801b58cd3f",
   "metadata": {},
   "outputs": [],
   "source": [
    "lst1=[\"zebra\",\"lion\",\"monkey\",\"donkey\"]"
   ]
  },
  {
   "cell_type": "code",
   "execution_count": 66,
   "id": "f9ee51c8-6454-467f-b86d-ef5cb40b7169",
   "metadata": {},
   "outputs": [
    {
     "data": {
      "text/plain": [
       "'donkey'"
      ]
     },
     "execution_count": 66,
     "metadata": {},
     "output_type": "execute_result"
    }
   ],
   "source": [
    "lst1.pop()"
   ]
  },
  {
   "cell_type": "code",
   "execution_count": 67,
   "id": "6af3d619-f499-4650-8be7-33c7f87b7d41",
   "metadata": {},
   "outputs": [
    {
     "data": {
      "text/plain": [
       "['zebra', 'lion', 'monkey']"
      ]
     },
     "execution_count": 67,
     "metadata": {},
     "output_type": "execute_result"
    }
   ],
   "source": [
    "lst1"
   ]
  },
  {
   "cell_type": "code",
   "execution_count": 70,
   "id": "b6f8cca6-4e82-46f4-b615-772d290c6b78",
   "metadata": {},
   "outputs": [
    {
     "data": {
      "text/plain": [
       "'lion'"
      ]
     },
     "execution_count": 70,
     "metadata": {},
     "output_type": "execute_result"
    }
   ],
   "source": [
    "removed_element=lst1.pop(1)\n",
    "removed_element"
   ]
  },
  {
   "cell_type": "code",
   "execution_count": 71,
   "id": "dc7e1ee1-444f-445b-a5f8-43ca7c75f2ac",
   "metadata": {},
   "outputs": [],
   "source": [
    "lst3=['w','r','dff','x','q',]"
   ]
  },
  {
   "cell_type": "code",
   "execution_count": 72,
   "id": "81764d01-47f8-4a07-889f-bae549390e78",
   "metadata": {},
   "outputs": [],
   "source": [
    "lst3.sort()"
   ]
  },
  {
   "cell_type": "code",
   "execution_count": 74,
   "id": "d651abe7-5f87-42fe-81f3-18718e4ce6f0",
   "metadata": {},
   "outputs": [
    {
     "data": {
      "text/plain": [
       "['dff', 'q', 'r', 'w', 'x']"
      ]
     },
     "execution_count": 74,
     "metadata": {},
     "output_type": "execute_result"
    }
   ],
   "source": [
    "lst3"
   ]
  },
  {
   "cell_type": "code",
   "execution_count": 76,
   "id": "654c1782-c6da-491e-a394-0bb45cd4fb10",
   "metadata": {},
   "outputs": [],
   "source": [
    "lst3.sort(reverse=True)"
   ]
  },
  {
   "cell_type": "code",
   "execution_count": 77,
   "id": "21643f0f-91b2-4848-8daa-a118361e8bcc",
   "metadata": {},
   "outputs": [
    {
     "data": {
      "text/plain": [
       "['x', 'w', 'r', 'q', 'dff']"
      ]
     },
     "execution_count": 77,
     "metadata": {},
     "output_type": "execute_result"
    }
   ],
   "source": [
    "lst3"
   ]
  },
  {
   "cell_type": "code",
   "execution_count": 79,
   "id": "0d53bbc6-922a-4fdd-9765-77ae263acf50",
   "metadata": {},
   "outputs": [],
   "source": [
    "lst4=[32,4,54,788,87,55,434,56]\n",
    "lst4.append(232)"
   ]
  },
  {
   "cell_type": "code",
   "execution_count": 80,
   "id": "a25c976c-0899-475b-aa6d-566a29d97ee4",
   "metadata": {},
   "outputs": [
    {
     "data": {
      "text/plain": [
       "[32, 4, 54, 788, 87, 55, 434, 56, 232]"
      ]
     },
     "execution_count": 80,
     "metadata": {},
     "output_type": "execute_result"
    }
   ],
   "source": [
    "lst4"
   ]
  },
  {
   "cell_type": "code",
   "execution_count": 83,
   "id": "c6e6f9fe-0b11-471b-992f-2638084119c3",
   "metadata": {},
   "outputs": [],
   "source": [
    "lst4.append(['Ankit','Solanki'])"
   ]
  },
  {
   "cell_type": "code",
   "execution_count": 84,
   "id": "64f0cde4-c5f5-4b93-9039-e623ede5e122",
   "metadata": {},
   "outputs": [
    {
     "data": {
      "text/plain": [
       "[32, 4, 54, 788, 87, 55, 434, 56, 232, ['Ankit', 'Solanki']]"
      ]
     },
     "execution_count": 84,
     "metadata": {},
     "output_type": "execute_result"
    }
   ],
   "source": [
    "lst4"
   ]
  },
  {
   "cell_type": "code",
   "execution_count": 85,
   "id": "baeeb21e-2a01-429b-b574-bd33e5c3c19a",
   "metadata": {},
   "outputs": [],
   "source": [
    "lst4.extend(['Ankit','Solanki'])"
   ]
  },
  {
   "cell_type": "code",
   "execution_count": 86,
   "id": "59c8f941-b2bf-48d3-80a9-64b802f38190",
   "metadata": {},
   "outputs": [
    {
     "data": {
      "text/plain": [
       "[32,\n",
       " 4,\n",
       " 54,\n",
       " 788,\n",
       " 87,\n",
       " 55,\n",
       " 434,\n",
       " 56,\n",
       " 232,\n",
       " ['Ankit', 'Solanki'],\n",
       " 'Ankit',\n",
       " 'Solanki']"
      ]
     },
     "execution_count": 86,
     "metadata": {},
     "output_type": "execute_result"
    }
   ],
   "source": [
    "lst4"
   ]
  },
  {
   "cell_type": "code",
   "execution_count": 87,
   "id": "9edbd43b-4fc3-400f-972b-f28cb1662e7e",
   "metadata": {},
   "outputs": [],
   "source": [
    "lst1=[12,3,35]\n",
    "lst2=[2,3,4]\n",
    "lst3=[44,54,7]"
   ]
  },
  {
   "cell_type": "code",
   "execution_count": 92,
   "id": "6b3a7cfd-9a9d-4348-84e3-b55c2927ea58",
   "metadata": {},
   "outputs": [],
   "source": [
    "matrix=[lst1,lst2,lst3]"
   ]
  },
  {
   "cell_type": "code",
   "execution_count": 93,
   "id": "4c91e0b0-c04b-411c-888b-64a9bf964347",
   "metadata": {},
   "outputs": [
    {
     "data": {
      "text/plain": [
       "[[12, 3, 35], [2, 3, 4], [44, 54, 7]]"
      ]
     },
     "execution_count": 93,
     "metadata": {},
     "output_type": "execute_result"
    }
   ],
   "source": [
    "matrix"
   ]
  },
  {
   "cell_type": "code",
   "execution_count": 89,
   "id": "1c836bd1-aa59-47e8-a493-432825fdaf2f",
   "metadata": {},
   "outputs": [
    {
     "data": {
      "text/plain": [
       "3"
      ]
     },
     "execution_count": 89,
     "metadata": {},
     "output_type": "execute_result"
    }
   ],
   "source": [
    "matrix[0][1]"
   ]
  },
  {
   "cell_type": "code",
   "execution_count": 91,
   "id": "e814c6fa-6b31-4162-b06c-c685368756a8",
   "metadata": {},
   "outputs": [
    {
     "data": {
      "text/plain": [
       "[54, 7]"
      ]
     },
     "execution_count": 91,
     "metadata": {},
     "output_type": "execute_result"
    }
   ],
   "source": [
    "matrix[2][1:]"
   ]
  },
  {
   "cell_type": "code",
   "execution_count": 111,
   "id": "eb8526a9-15f5-4057-bdef-b2d256c9d729",
   "metadata": {},
   "outputs": [
    {
     "data": {
      "text/plain": [
       "[2, 3, 4]"
      ]
     },
     "execution_count": 111,
     "metadata": {},
     "output_type": "execute_result"
    }
   ],
   "source": [
    "matrix[0:][1]"
   ]
  },
  {
   "cell_type": "code",
   "execution_count": 112,
   "id": "a45388fb-87f8-447e-bf4d-5d582787ebd7",
   "metadata": {},
   "outputs": [],
   "source": [
    "#list comprehension"
   ]
  },
  {
   "cell_type": "code",
   "execution_count": 115,
   "id": "1a2078ff-fc22-4b69-b821-6404920f4296",
   "metadata": {},
   "outputs": [
    {
     "data": {
      "text/plain": [
       "[0, 1, 2, 3, 4, 5, 6, 7, 8, 9, 10, 11, 12, 13, 14, 15, 16, 17, 18, 19]"
      ]
     },
     "execution_count": 115,
     "metadata": {},
     "output_type": "execute_result"
    }
   ],
   "source": [
    "[i for i in range(20)]"
   ]
  },
  {
   "cell_type": "code",
   "execution_count": null,
   "id": "57a3a0f1-cf5b-458d-838d-b129836720eb",
   "metadata": {},
   "outputs": [],
   "source": [
    "## even numbers"
   ]
  },
  {
   "cell_type": "code",
   "execution_count": 116,
   "id": "b04a0089-0e7b-418f-b5cc-95dd3970ac46",
   "metadata": {},
   "outputs": [
    {
     "data": {
      "text/plain": [
       "[0,\n",
       " 'odd',\n",
       " 2,\n",
       " 'odd',\n",
       " 4,\n",
       " 'odd',\n",
       " 6,\n",
       " 'odd',\n",
       " 8,\n",
       " 'odd',\n",
       " 10,\n",
       " 'odd',\n",
       " 12,\n",
       " 'odd',\n",
       " 14,\n",
       " 'odd',\n",
       " 16,\n",
       " 'odd',\n",
       " 18,\n",
       " 'odd']"
      ]
     },
     "execution_count": 116,
     "metadata": {},
     "output_type": "execute_result"
    }
   ],
   "source": [
    "[ i if i%2==0 else \"odd\" for i in range(20)]"
   ]
  },
  {
   "cell_type": "code",
   "execution_count": 128,
   "id": "95a64581-5985-4981-b24e-80f352ddf5e5",
   "metadata": {},
   "outputs": [
    {
     "name": "stdout",
     "output_type": "stream",
     "text": [
      "20 16\n"
     ]
    }
   ],
   "source": [
    "# assignment\n",
    "lst=[1,2,3,4,5,6,7,8]\n",
    "even=0\n",
    "odd=0\n",
    "for i in lst:\n",
    "    if i%2==0:\n",
    "        even=even+i\n",
    "    else:\n",
    "        odd=odd+i\n",
    "        \n",
    "        \n",
    "print(even,odd)"
   ]
  },
  {
   "cell_type": "code",
   "execution_count": 132,
   "id": "9babb36f-9521-4c39-b509-67244f039ae1",
   "metadata": {},
   "outputs": [],
   "source": [
    "#using list comprehension\n",
    "even_sum=sum([num for num in lst if num%2==0])"
   ]
  },
  {
   "cell_type": "code",
   "execution_count": 133,
   "id": "7ad4a95e-53b3-440c-b123-5b7666fbe246",
   "metadata": {},
   "outputs": [
    {
     "data": {
      "text/plain": [
       "20"
      ]
     },
     "execution_count": 133,
     "metadata": {},
     "output_type": "execute_result"
    }
   ],
   "source": [
    "even_sum"
   ]
  },
  {
   "cell_type": "code",
   "execution_count": 134,
   "id": "d13effd6-1fcb-4de7-af5b-fe82040ef48a",
   "metadata": {},
   "outputs": [],
   "source": [
    "odd_sum=sum([num for num in lst if num%2!=0])"
   ]
  },
  {
   "cell_type": "code",
   "execution_count": 135,
   "id": "2003d056-f8a5-4cb3-b4ae-ef52bb4e63c1",
   "metadata": {},
   "outputs": [
    {
     "data": {
      "text/plain": [
       "16"
      ]
     },
     "execution_count": 135,
     "metadata": {},
     "output_type": "execute_result"
    }
   ],
   "source": [
    "odd_sum"
   ]
  },
  {
   "cell_type": "code",
   "execution_count": 140,
   "id": "b6655809-030c-4ca8-b5fe-822b53015f7d",
   "metadata": {},
   "outputs": [],
   "source": [
    "lst=[-1,-2,-2,1,2,3,4,5,6,7,8]\n"
   ]
  },
  {
   "cell_type": "code",
   "execution_count": 141,
   "id": "2763208d-b138-4e58-aa6d-b0eebe84cebc",
   "metadata": {},
   "outputs": [
    {
     "data": {
      "text/plain": [
       "[1, 4, 4, 1, 4, 9, 16, 25, 36, 49, 64]"
      ]
     },
     "execution_count": 141,
     "metadata": {},
     "output_type": "execute_result"
    }
   ],
   "source": [
    "#finding square of given list\n",
    "[num**2 for num in lst ]"
   ]
  },
  {
   "cell_type": "code",
   "execution_count": 142,
   "id": "dc802d06-3390-4f9b-bcf5-853d87755419",
   "metadata": {},
   "outputs": [
    {
     "data": {
      "text/plain": [
       "[1, 2, 3, 4, 5, 6, 7, 8]"
      ]
     },
     "execution_count": 142,
     "metadata": {},
     "output_type": "execute_result"
    }
   ],
   "source": [
    "#finding positive number from given list\n",
    "[num for num in lst if num>=0]"
   ]
  },
  {
   "cell_type": "code",
   "execution_count": 143,
   "id": "af0b0807-dbd0-4b5c-aca8-2e1a0c2227fa",
   "metadata": {},
   "outputs": [
    {
     "data": {
      "text/plain": [
       "[-1, -2, -2]"
      ]
     },
     "execution_count": 143,
     "metadata": {},
     "output_type": "execute_result"
    }
   ],
   "source": [
    "#finding negative number from given list\n",
    "[num for num in lst if num<=0]"
   ]
  },
  {
   "cell_type": "code",
   "execution_count": 145,
   "id": "a0a555e7-fcea-495b-b491-d059bda50fad",
   "metadata": {},
   "outputs": [],
   "source": [
    "# example 3 create a list of the first letters of words from in a list\n",
    "words=['apple','banana','chery','date']"
   ]
  },
  {
   "cell_type": "code",
   "execution_count": 149,
   "id": "adc37e7b-2819-495b-b5e1-9fd431d4ada6",
   "metadata": {},
   "outputs": [
    {
     "data": {
      "text/plain": [
       "['a', 'b', 'c', 'd']"
      ]
     },
     "execution_count": 149,
     "metadata": {},
     "output_type": "execute_result"
    }
   ],
   "source": [
    "[word[0] for word in words]"
   ]
  },
  {
   "cell_type": "code",
   "execution_count": 2,
   "id": "3f5bbbd1-792e-466a-94e5-cda858bd6f1e",
   "metadata": {},
   "outputs": [],
   "source": [
    "#flattern a list of lists into a soongle list using list comprehension\n",
    "lists=[[3,4,5],[3,4,5],[5,6,6]]"
   ]
  },
  {
   "cell_type": "code",
   "execution_count": 3,
   "id": "f96e5c97-8a78-4d8f-bf93-c93d8c62d193",
   "metadata": {},
   "outputs": [
    {
     "data": {
      "text/plain": [
       "[3, 4, 5, 3, 4, 5, 5, 6, 6]"
      ]
     },
     "execution_count": 3,
     "metadata": {},
     "output_type": "execute_result"
    }
   ],
   "source": [
    "[num for sublists in lists for num in sublists]"
   ]
  },
  {
   "cell_type": "markdown",
   "id": "04afa63c-74ce-4544-bba8-72e2d36b35b9",
   "metadata": {},
   "source": []
  },
  {
   "cell_type": "code",
   "execution_count": 4,
   "id": "4634c2ed-fdd0-4218-95c0-7f017ce9d74d",
   "metadata": {},
   "outputs": [],
   "source": [
    "## assignment\n",
    "#using both code and list comprehension \n",
    "# example 2: create a list of only th prime numbers from a given list\n",
    "num=[1,2,3,4,5,6,7,8,9,10]"
   ]
  },
  {
   "cell_type": "code",
   "execution_count": 5,
   "id": "542a2413-9d89-4f21-91ea-f42da87984cd",
   "metadata": {},
   "outputs": [],
   "source": [
    "#example 2: create a ist of all the possible combnation of 2 elements from a list"
   ]
  },
  {
   "cell_type": "code",
   "execution_count": 6,
   "id": "46135191-d865-4771-aeb5-a260159355e9",
   "metadata": {},
   "outputs": [],
   "source": [
    "num=[1,2,3,4,5]"
   ]
  },
  {
   "cell_type": "code",
   "execution_count": null,
   "id": "9872e536-efe7-43e1-8bd9-463c7aec6f9a",
   "metadata": {},
   "outputs": [],
   "source": []
  },
  {
   "cell_type": "code",
   "execution_count": null,
   "id": "eb18f1b2-4fae-4c44-9147-714f109e2431",
   "metadata": {},
   "outputs": [],
   "source": []
  },
  {
   "cell_type": "code",
   "execution_count": null,
   "id": "cead8aee-c47c-4fb7-9511-a349c72703c9",
   "metadata": {},
   "outputs": [],
   "source": []
  },
  {
   "cell_type": "code",
   "execution_count": null,
   "id": "58fb01ab-1f99-4969-b9ff-7f724e48475b",
   "metadata": {},
   "outputs": [],
   "source": []
  },
  {
   "cell_type": "code",
   "execution_count": null,
   "id": "cf2cc323-17f7-4168-9a21-ef5955602296",
   "metadata": {},
   "outputs": [],
   "source": []
  },
  {
   "cell_type": "code",
   "execution_count": 1,
   "id": "9407cde2-6dd9-4c5f-af04-fbe0dd532313",
   "metadata": {},
   "outputs": [],
   "source": []
  }
 ],
 "metadata": {
  "kernelspec": {
   "display_name": "Python 3 (ipykernel)",
   "language": "python",
   "name": "python3"
  },
  "language_info": {
   "codemirror_mode": {
    "name": "ipython",
    "version": 3
   },
   "file_extension": ".py",
   "mimetype": "text/x-python",
   "name": "python",
   "nbconvert_exporter": "python",
   "pygments_lexer": "ipython3",
   "version": "3.10.8"
  }
 },
 "nbformat": 4,
 "nbformat_minor": 5
}
