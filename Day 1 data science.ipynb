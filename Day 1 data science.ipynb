{
 "cells": [
  {
   "cell_type": "code",
   "execution_count": 45,
   "id": "9f2ed1f1-5934-49a2-b590-7acd3ed77afd",
   "metadata": {
    "collapsed": true,
    "jupyter": {
     "outputs_hidden": true
    },
    "tags": []
   },
   "outputs": [
    {
     "name": "stdout",
     "output_type": "stream",
     "text": [
      "20\n"
     ]
    }
   ],
   "source": [
    "a=20\n",
    "print(a)"
   ]
  },
  {
   "cell_type": "code",
   "execution_count": 35,
   "id": "f7dfa72b-d069-480d-b4d3-8ad5766750f9",
   "metadata": {},
   "outputs": [],
   "source": [
    "# thiis ia me"
   ]
  },
  {
   "cell_type": "code",
   "execution_count": 46,
   "id": "fba68258-d360-492c-98da-1fd203d94779",
   "metadata": {},
   "outputs": [
    {
     "data": {
      "text/plain": [
       "20"
      ]
     },
     "execution_count": 46,
     "metadata": {},
     "output_type": "execute_result"
    }
   ],
   "source": [
    "a"
   ]
  },
  {
   "cell_type": "code",
   "execution_count": 37,
   "id": "da5007a3-00d1-443b-88d4-de3771533882",
   "metadata": {},
   "outputs": [
    {
     "data": {
      "text/plain": [
       "2"
      ]
     },
     "execution_count": 37,
     "metadata": {},
     "output_type": "execute_result"
    }
   ],
   "source": [
    "1+1"
   ]
  },
  {
   "cell_type": "code",
   "execution_count": 51,
   "id": "93f26ef6-c61f-4646-9c46-ae2f628a26ad",
   "metadata": {},
   "outputs": [
    {
     "name": "stdout",
     "output_type": "stream",
     "text": [
      "2.9\n"
     ]
    }
   ],
   "source": [
    "a=1+1.9\n",
    "print(a)"
   ]
  },
  {
   "cell_type": "code",
   "execution_count": 44,
   "id": "ff76a10f-b623-464d-834d-09b5d5dcd8a6",
   "metadata": {},
   "outputs": [],
   "source": [
    "## Numbers"
   ]
  },
  {
   "cell_type": "code",
   "execution_count": 49,
   "id": "235c270e-3468-4254-8cf4-978a9ed62f13",
   "metadata": {},
   "outputs": [
    {
     "name": "stdout",
     "output_type": "stream",
     "text": [
      "4\n"
     ]
    }
   ],
   "source": [
    "print(1+3)"
   ]
  },
  {
   "cell_type": "code",
   "execution_count": 57,
   "id": "b9dfd580-9715-4076-ae61-9df938f265cb",
   "metadata": {},
   "outputs": [
    {
     "name": "stdout",
     "output_type": "stream",
     "text": [
      "My nane is \n",
      "Ankit\n"
     ]
    }
   ],
   "source": [
    "print('My nane is \\nAnkit') "
   ]
  },
  {
   "cell_type": "code",
   "execution_count": 3,
   "id": "662b6f66-96f0-46d0-a351-ff01ca4a567e",
   "metadata": {},
   "outputs": [],
   "source": [
    "## Variables assignment"
   ]
  },
  {
   "cell_type": "code",
   "execution_count": 62,
   "id": "f38931c5-160e-4cbe-8e8c-60eec145a442",
   "metadata": {},
   "outputs": [],
   "source": [
    "name=\"Ankit\"\n",
    "company=\"Student\""
   ]
  },
  {
   "cell_type": "code",
   "execution_count": 72,
   "id": "4afda34d-1378-4a6a-9399-e36e7dfb9f6c",
   "metadata": {},
   "outputs": [
    {
     "data": {
      "text/plain": [
       "str"
      ]
     },
     "execution_count": 72,
     "metadata": {},
     "output_type": "execute_result"
    }
   ],
   "source": [
    "type(name)"
   ]
  },
  {
   "cell_type": "code",
   "execution_count": 11,
   "id": "8d41905b-fcb1-41b3-a8f8-423dacbd5e48",
   "metadata": {},
   "outputs": [],
   "source": [
    "i=10"
   ]
  },
  {
   "cell_type": "code",
   "execution_count": 13,
   "id": "877feac7-55e9-4621-9f72-cf2c55e338a4",
   "metadata": {},
   "outputs": [
    {
     "data": {
      "text/plain": [
       "int"
      ]
     },
     "execution_count": 13,
     "metadata": {},
     "output_type": "execute_result"
    }
   ],
   "source": [
    "type(i)"
   ]
  },
  {
   "cell_type": "code",
   "execution_count": 14,
   "id": "de536ddc-f4b5-44ce-9e1a-16321fbbe125",
   "metadata": {},
   "outputs": [
    {
     "data": {
      "text/plain": [
       "complex"
      ]
     },
     "execution_count": 14,
     "metadata": {},
     "output_type": "execute_result"
    }
   ],
   "source": [
    "type(i+2j)\n"
   ]
  },
  {
   "cell_type": "code",
   "execution_count": 17,
   "id": "60f31fe5-9dde-4ac9-86cd-94b72e9fbbb1",
   "metadata": {},
   "outputs": [
    {
     "data": {
      "text/plain": [
       "str"
      ]
     },
     "execution_count": 17,
     "metadata": {},
     "output_type": "execute_result"
    }
   ],
   "source": [
    "type('helo')"
   ]
  },
  {
   "cell_type": "code",
   "execution_count": 18,
   "id": "e5fedd8d-b2cd-4ccc-a67d-99bb609f084e",
   "metadata": {},
   "outputs": [
    {
     "data": {
      "text/plain": [
       "str"
      ]
     },
     "execution_count": 18,
     "metadata": {},
     "output_type": "execute_result"
    }
   ],
   "source": [
    "type(\"helo\")\n"
   ]
  },
  {
   "cell_type": "code",
   "execution_count": 20,
   "id": "510241a5-c7b7-4129-9860-b9e881c02330",
   "metadata": {},
   "outputs": [
    {
     "data": {
      "text/plain": [
       "True"
      ]
     },
     "execution_count": 20,
     "metadata": {},
     "output_type": "execute_result"
    }
   ],
   "source": [
    "True or False"
   ]
  },
  {
   "cell_type": "code",
   "execution_count": 21,
   "id": "90df9f65-53b6-4727-92ff-6f173952599d",
   "metadata": {},
   "outputs": [
    {
     "data": {
      "text/plain": [
       "False"
      ]
     },
     "execution_count": 21,
     "metadata": {},
     "output_type": "execute_result"
    }
   ],
   "source": [
    "True and False"
   ]
  },
  {
   "cell_type": "code",
   "execution_count": 23,
   "id": "2964e8a6-8d02-4b55-8725-08b2ee25a770",
   "metadata": {},
   "outputs": [
    {
     "data": {
      "text/plain": [
       "True"
      ]
     },
     "execution_count": 23,
     "metadata": {},
     "output_type": "execute_result"
    }
   ],
   "source": [
    "not False"
   ]
  },
  {
   "cell_type": "code",
   "execution_count": 24,
   "id": "c228ddc2-caf3-42ba-b963-fd4a3e904a81",
   "metadata": {},
   "outputs": [
    {
     "data": {
      "text/plain": [
       "'20'"
      ]
     },
     "execution_count": 24,
     "metadata": {},
     "output_type": "execute_result"
    }
   ],
   "source": [
    "str(20)"
   ]
  },
  {
   "cell_type": "code",
   "execution_count": 26,
   "id": "1360d6b5-f909-4bcc-b7dc-7705577a89ba",
   "metadata": {},
   "outputs": [
    {
     "data": {
      "text/plain": [
       "int"
      ]
     },
     "execution_count": 26,
     "metadata": {},
     "output_type": "execute_result"
    }
   ],
   "source": [
    "type(int('23'))"
   ]
  },
  {
   "cell_type": "code",
   "execution_count": 31,
   "id": "2a19d8c4-9dc7-4f4b-b25a-0b8ee6c4edef",
   "metadata": {},
   "outputs": [],
   "source": [
    "## Dynamic Typing"
   ]
  },
  {
   "cell_type": "code",
   "execution_count": 33,
   "id": "2ca5d286-00ec-4ca2-9f53-e4868abee011",
   "metadata": {},
   "outputs": [
    {
     "name": "stdout",
     "output_type": "stream",
     "text": [
      "100\n"
     ]
    }
   ],
   "source": [
    "print(1*100)"
   ]
  },
  {
   "cell_type": "code",
   "execution_count": 37,
   "id": "5ff0518b-b0bc-4791-9e65-9a615fc87737",
   "metadata": {},
   "outputs": [
    {
     "data": {
      "text/plain": [
       "bool"
      ]
     },
     "execution_count": 37,
     "metadata": {},
     "output_type": "execute_result"
    }
   ],
   "source": [
    "type(bool(0))"
   ]
  },
  {
   "cell_type": "code",
   "execution_count": null,
   "id": "fcd22a98-8aa4-4577-a1ae-712236bf567e",
   "metadata": {},
   "outputs": [],
   "source": []
  },
  {
   "cell_type": "code",
   "execution_count": null,
   "id": "55ca5b93-5849-4622-920d-747ffc485531",
   "metadata": {},
   "outputs": [],
   "source": []
  },
  {
   "cell_type": "code",
   "execution_count": null,
   "id": "ee32fcd0-b341-46ce-8c01-3f5747a139f6",
   "metadata": {},
   "outputs": [],
   "source": []
  },
  {
   "cell_type": "code",
   "execution_count": null,
   "id": "af36922b-01d5-48a2-b725-44913086ac86",
   "metadata": {},
   "outputs": [],
   "source": []
  },
  {
   "cell_type": "code",
   "execution_count": null,
   "id": "b3ce10a6-dc99-49f0-8379-32ac26511ac0",
   "metadata": {},
   "outputs": [],
   "source": []
  },
  {
   "cell_type": "code",
   "execution_count": null,
   "id": "c301f08e-5983-4ac7-9dc7-1b88792a9724",
   "metadata": {},
   "outputs": [],
   "source": []
  }
 ],
 "metadata": {
  "kernelspec": {
   "display_name": "Python 3 (ipykernel)",
   "language": "python",
   "name": "python3"
  },
  "language_info": {
   "codemirror_mode": {
    "name": "ipython",
    "version": 3
   },
   "file_extension": ".py",
   "mimetype": "text/x-python",
   "name": "python",
   "nbconvert_exporter": "python",
   "pygments_lexer": "ipython3",
   "version": "3.10.8"
  }
 },
 "nbformat": 4,
 "nbformat_minor": 5
}
